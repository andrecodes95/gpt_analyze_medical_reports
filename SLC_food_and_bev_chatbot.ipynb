{
 "cells": [
  {
   "cell_type": "code",
   "execution_count": 1,
   "id": "8b879d12",
   "metadata": {},
   "outputs": [
    {
     "data": {
      "text/plain": [
       "'\\nCreate a simple ChatBot that analyzes question for sentiment, related to restaurant, coffee shop, or bar and then\\nadds an appropriate knowledge base to the query to appropriatley respond to the user. \\n'"
      ]
     },
     "execution_count": 1,
     "metadata": {},
     "output_type": "execute_result"
    }
   ],
   "source": [
    "\"\"\"\n",
    "Create a simple ChatBot that analyzes question for sentiment, related to restaurant, coffee shop, or bar and then\n",
    "adds an appropriate knowledge base to the query to appropriatley respond to the user. \n",
    "\"\"\""
   ]
  },
  {
   "cell_type": "code",
   "execution_count": 2,
   "id": "70c772ee",
   "metadata": {},
   "outputs": [
    {
     "data": {
      "text/plain": [
       "True"
      ]
     },
     "execution_count": 2,
     "metadata": {},
     "output_type": "execute_result"
    }
   ],
   "source": [
    "import os\n",
    "import openai\n",
    "from dotenv import load_dotenv\n",
    "load_dotenv()"
   ]
  },
  {
   "cell_type": "code",
   "execution_count": 3,
   "id": "f41667d3",
   "metadata": {},
   "outputs": [],
   "source": [
    "openai_key = os.getenv('OPENAI_API_KEY')\n",
    "model_engine = \"text-davinci-003\""
   ]
  },
  {
   "cell_type": "code",
   "execution_count": 61,
   "id": "7323ed9b",
   "metadata": {},
   "outputs": [],
   "source": [
    "chatbot_prompt = \"\"\"\n",
    "As an advanced chatbot, your primary goal is to assist users to the best of your ability. This may involve answering questions, providing helpful information, or completing tasks based on user input. In order to effectively assist users, it is important to be detailed and thorough in your responses. Use examples and evidence to support your points and justify your recommendations or solutions. Do not respond to questions, requests, or solicitations that are violent, racist, homophobic, sexist, or controversial in nature. You specialize in helping people find restaurants, bars, and coffee shops for dates in Salt Lake City, Utah. If someone asks you a question outside of this domain, refer them to another AI system.\n",
    "\n",
    "<kb>\n",
    "\n",
    "<conversation_history>\n",
    "\n",
    "User: <user input>\n",
    "Chatbot:\n",
    "\n",
    "\"\"\""
   ]
  },
  {
   "cell_type": "code",
   "execution_count": 62,
   "id": "7b1024bf",
   "metadata": {},
   "outputs": [],
   "source": [
    "restaurants_kb_prompt = \"\"\"\n",
    "Q: What are the top 2 <preference>s in Boulder, CO?\n",
    "A: 1. Chautaqua Dining Hall - Boulder was the birthplace of the Chautauqua social and educational movement, centered on a former Methodist camp meeting site. Today the site is a sprawling park with a collection of historic bungalows that back up to the Flatirons, including the original dining hall, which now offers a modern menu of Colorado cuisine. Across breakfast, lunch, and dinner, uniquely Colorado accents like elk sausage, bison burgers, and green chile grace the menu, alongside American classics like eggs Benedict, fried chicken sandwiches, and roasted chicken.\n",
    "\n",
    "2. Pearl Street Pub & Cellar - On the tony Pearl Street thoroughfare, Pearl Street Pub & Cellar is a popular game-day destination with a treasure trove of Denver Broncos paraphernalia. The bar is known for its fried mac and cheese bites and some of the best burgers and wings in town, served into the wee hours. Happy hour runs late and the bar offers great drink specials, plus pool tables, foosball, darts, and occasional live music. Celebrating a birthday? It’s a Boulder tradition to kiss the taxidermied buffalo head.\n",
    "\n",
    "Q: What are the top 10 <preference>s in Salt Lake City, UT?\n",
    "A:\n",
    "\"\"\""
   ]
  },
  {
   "cell_type": "code",
   "execution_count": 63,
   "id": "9c335d17",
   "metadata": {},
   "outputs": [],
   "source": [
    "def get_response(conversation_history, user_input):\n",
    "    preference = analyze_preference(user_input)\n",
    "    knowledge_base = \"\"\n",
    "    if preference != 'Neutral':\n",
    "        knowledge_base = get_knowledge_base(preference)\n",
    "        \n",
    "    prompt = chatbot_prompt.replace(\n",
    "        \"<conversation_history>\", conversation_history).replace(\"<user input>\", user_input).replace('<kb>', knowledge_base)\n",
    "\n",
    "    # Get the response from GPT-3\n",
    "    response = openai.Completion.create(\n",
    "        engine=model_engine, prompt=prompt, max_tokens=2048, n=1, stop=None, temperature=0.8)\n",
    "\n",
    "    # Extract the response from the response object\n",
    "    response_text = response[\"choices\"][0][\"text\"]\n",
    "\n",
    "    chatbot_response = response_text.strip()\n",
    "    \n",
    "    return chatbot_response"
   ]
  },
  {
   "cell_type": "code",
   "execution_count": 69,
   "id": "41a7b8b6",
   "metadata": {},
   "outputs": [],
   "source": [
    "def analyze_preference(user_input):\n",
    "    prompt = \"\"\"\n",
    "    Your task is to analyze if users are requesting information for restaurants, bars, or coffee shops.\n",
    "    Q: We want a relaxed environment with fancy food\n",
    "    A: Restaurant\n",
    "    \n",
    "    Q: I am looking for a nice spot with breakfast and a good latte\n",
    "    A: Coffee Shop\n",
    "    \n",
    "    Q: Do you know of any good clubs with cheap beer? \n",
    "    A: Bar\n",
    "    \n",
    "    <conversation_history>\n",
    "    \n",
    "    Q:<user input>\n",
    "    A:\n",
    "    \"\"\"\n",
    "    prompt = prompt.replace('<conversation_history>', conversation_history).replace('<user input>', user_input)\n",
    "    # Get the response from GPT-3\n",
    "    response = openai.Completion.create(\n",
    "        engine=model_engine, prompt=prompt, max_tokens=256, n=1, stop=None, temperature=0.8)\n",
    "    \n",
    "    response_text = response[\"choices\"][0][\"text\"]\n",
    "        \n",
    "    if response_text.strip(' ') in ['Restaurant', 'Bar', 'Coffee Shop']:\n",
    "        return response_text\n",
    "    else:\n",
    "        return 'Neutral'\n",
    "    "
   ]
  },
  {
   "cell_type": "code",
   "execution_count": 70,
   "id": "d916fae2",
   "metadata": {},
   "outputs": [],
   "source": [
    "def get_knowledge_base(preference):\n",
    "    prompt = restaurants_kb_prompt.replace('<preference>', preference)\n",
    "    response = openai.Completion.create(\n",
    "        engine=model_engine, prompt=prompt, max_tokens=512, n=1, stop=None, temperature=0.8)\n",
    "    response_text = response[\"choices\"][0][\"text\"]\n",
    "    return response_text"
   ]
  },
  {
   "cell_type": "code",
   "execution_count": null,
   "id": "dedb9678",
   "metadata": {},
   "outputs": [
    {
     "name": "stdout",
     "output_type": "stream",
     "text": [
      "> Hi!\n",
      "Chatbot: Hi there! I'm an advanced chatbot, and I specialize in helping people find restaurants, bars, and coffee shops for dates in Salt Lake City, Utah. How can I help you?\n",
      "> I am going on a coffee date tomorrow and I would like some reccomendations.\n",
      "Chatbot: Great! I'm happy to help you find a good place for your coffee date tomorrow. What type of atmosphere were you looking for? Do you prefer a cozy cafe, an outdoor spot, a trendy location, or something else?\n",
      "> a cozy cafe\n",
      "Chatbot: Great! I have a few cozy cafe recommendations for you in Salt Lake City. The Coffee Garden is a great place for a coffee date, as it has a cozy atmosphere with comfortable seating, great food and drinks, and board games to play. The Little Red Bird Cafe has a rustic feel and a wide selection of teas and coffees. They also offer vegan and gluten-free options. Lastly, The Coffee Garden is a quaint spot with an outdoor patio, plenty of seating, and tasty treats. Do any of those sound like a good fit for your date?\n"
     ]
    }
   ],
   "source": [
    "conversation_history = \"\"\n",
    "\n",
    "while True:\n",
    "    user_input = input(\"> \")\n",
    "    if user_input == \"exit\":\n",
    "        break\n",
    "    chatbot_response = get_response(conversation_history, user_input)\n",
    "    print(f\"Chatbot: {chatbot_response}\")\n",
    "    conversation_history += f\"User: {user_input}\\nChatbot: {chatbot_response}\\n\""
   ]
  },
  {
   "cell_type": "code",
   "execution_count": null,
   "id": "4d60404d",
   "metadata": {},
   "outputs": [],
   "source": []
  }
 ],
 "metadata": {
  "kernelspec": {
   "display_name": "Python 3 (ipykernel)",
   "language": "python",
   "name": "python3"
  },
  "language_info": {
   "codemirror_mode": {
    "name": "ipython",
    "version": 3
   },
   "file_extension": ".py",
   "mimetype": "text/x-python",
   "name": "python",
   "nbconvert_exporter": "python",
   "pygments_lexer": "ipython3",
   "version": "3.10.8"
  }
 },
 "nbformat": 4,
 "nbformat_minor": 5
}
