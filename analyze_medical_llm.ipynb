{
 "cells": [
  {
   "cell_type": "code",
   "execution_count": 1,
   "id": "6f97fa3c",
   "metadata": {},
   "outputs": [
    {
     "data": {
      "text/plain": [
       "True"
      ]
     },
     "execution_count": 1,
     "metadata": {},
     "output_type": "execute_result"
    }
   ],
   "source": [
    "import os\n",
    "import json\n",
    "import openai\n",
    "from dotenv import load_dotenv\n",
    "\n",
    "load_dotenv()"
   ]
  },
  {
   "cell_type": "code",
   "execution_count": 11,
   "id": "7f93f868",
   "metadata": {},
   "outputs": [],
   "source": [
    "openai.api_key = os.getenv(\"OPENAI_API_KEY\")"
   ]
  },
  {
   "cell_type": "code",
   "execution_count": 12,
   "id": "9fe69788",
   "metadata": {},
   "outputs": [
    {
     "data": {
      "text/plain": [
       "'\\nOutline of medical analysis example using ChatGPT API\\n- create a database of example patients\\n- Ask GPT to get example patient from database \\n- Request Progress notes, Discharge Summary, Consultation Report, \\n    Laboratory Report, Radiology Reports, Surgery Reports, \\n    Immunization records, allergy records, medication records, and vital sign records for the patient\\n- Summarize and Analyze reports and return a high level summary of the patient and diagnostic predictions\\n\\nUse Completions API, Chat Completions API, and function Calling capabilities\\n'"
      ]
     },
     "execution_count": 12,
     "metadata": {},
     "output_type": "execute_result"
    }
   ],
   "source": [
    "\"\"\"\n",
    "Outline of medical analysis example using ChatGPT API\n",
    "- create a database of example patients\n",
    "- Ask GPT to get example patient from database \n",
    "- Request Progress notes, Discharge Summary, Consultation Report, \n",
    "    Laboratory Report, Radiology Reports, Surgery Reports, \n",
    "    Immunization records, allergy records, medication records, and vital sign records for the patient\n",
    "- Summarize and Analyze reports and return a high level summary of the patient and diagnostic predictions\n",
    "\n",
    "Use Completions API, Chat Completions API, and function Calling capabilities\n",
    "\"\"\""
   ]
  },
  {
   "cell_type": "code",
   "execution_count": 13,
   "id": "f44c303d",
   "metadata": {},
   "outputs": [],
   "source": [
    "patient_dict_messages = [\n",
    "    {\"role\": \"system\", \"content\": \"You are a system that creates information about medical patients with real conditions\"},\n",
    "    {\"role\": \"user\", \"content\": \"Please provide a list of 5 patients with real and different medical conditions. \" + \n",
    "            \"Format your response in JSON format with the following keys: Name, Age, Gender, Occupation, Medical Condition, Medical History, Symptoms, Diagnostic Journey, Treatment, Impact on Daily Life\"}\n",
    "]"
   ]
  },
  {
   "cell_type": "code",
   "execution_count": 14,
   "id": "11794131",
   "metadata": {},
   "outputs": [
    {
     "name": "stdout",
     "output_type": "stream",
     "text": [
      "{\n",
      "  \"patients\": [\n",
      "    {\n",
      "      \"Name\": \"John Smith\",\n",
      "      \"Age\": 45,\n",
      "      \"Gender\": \"Male\",\n",
      "      \"Occupation\": \"Accountant\",\n",
      "      \"Medical Condition\": \"Type 2 Diabetes\",\n",
      "      \"Medical History\": \"Family history of diabetes, sedentary lifestyle, poor diet\",\n",
      "      \"Symptoms\": \"Frequent urination, increased thirst, fatigue, blurred vision\",\n",
      "      \"Diagnostic Journey\": \"Routine blood tests revealed high blood sugar levels, followed by further tests to confirm diagnosis\",\n",
      "      \"Treatment\": \"Lifestyle modifications (diet, exercise), oral medication (metformin)\",\n",
      "      \"Impact on Daily Life\": \"Requires regular monitoring of blood sugar levels, dietary restrictions, medication adherence\"\n",
      "    },\n",
      "    {\n",
      "      \"Name\": \"Emily Johnson\",\n",
      "      \"Age\": 30,\n",
      "      \"Gender\": \"Female\",\n",
      "      \"Occupation\": \"Teacher\",\n",
      "      \"Medical Condition\": \"Asthma\",\n",
      "      \"Medical History\": \"Childhood history of allergies, exposure to environmental triggers\",\n",
      "      \"Symptoms\": \"Shortness of breath, wheezing, coughing, chest tightness\",\n",
      "      \"Diagnostic Journey\": \"Assessment of symptoms, lung function tests (spirometry), allergy testing\",\n",
      "      \"Treatment\": \"Inhaled corticosteroids, bronchodilators, avoidance of triggers\",\n",
      "      \"Impact on Daily Life\": \"Requires regular use of inhalers, careful monitoring of triggers, occasional limitations on physical activity\"\n",
      "    },\n",
      "    {\n",
      "      \"Name\": \"Sarah Thompson\",\n",
      "      \"Age\": 55,\n",
      "      \"Gender\": \"Female\",\n",
      "      \"Occupation\": \"Retired\",\n",
      "      \"Medical Condition\": \"Osteoarthritis\",\n",
      "      \"Medical History\": \"Age-related degeneration, previous joint injuries\",\n",
      "      \"Symptoms\": \"Joint pain, stiffness, reduced range of motion\",\n",
      "      \"Diagnostic Journey\": \"Physical examination, X-rays, blood tests to rule out other conditions\",\n",
      "      \"Treatment\": \"Pain management with non-steroidal anti-inflammatory drugs (NSAIDs), physical therapy, assistive devices (cane, brace)\",\n",
      "      \"Impact on Daily Life\": \"Difficulty with activities like walking, climbing stairs, and household chores, requires assistive devices for mobility\"\n",
      "    },\n",
      "    {\n",
      "      \"Name\": \"Michael Davis\",\n",
      "      \"Age\": 60,\n",
      "      \"Gender\": \"Male\",\n",
      "      \"Occupation\": \"Construction Worker\",\n",
      "      \"Medical Condition\": \"Chronic Obstructive Pulmonary Disease (COPD)\",\n",
      "      \"Medical History\": \"Heavy smoking history, occupational exposure to dust and chemicals\",\n",
      "      \"Symptoms\": \"Chronic cough, shortness of breath, wheezing, frequent respiratory infections\",\n",
      "      \"Diagnostic Journey\": \"Assessment of symptoms, lung function tests (spirometry), chest X-ray, medical history evaluation\",\n",
      "      \"Treatment\": \"Smoking cessation, inhaled bronchodilators, pulmonary rehabilitation, oxygen therapy\",\n",
      "      \"Impact on Daily Life\": \"Significant limitations on physical activity, frequent respiratory symptoms, requires oxygen support\"\n",
      "    },\n",
      "    {\n",
      "      \"Name\": \"Emma Wilson\",\n",
      "      \"Age\": 25,\n",
      "      \"Gender\": \"Female\",\n",
      "      \"Occupation\": \"Graphic Designer\",\n",
      "      \"Medical Condition\": \"Generalized Anxiety Disorder\",\n",
      "      \"Medical History\": \"History of anxiety and panic attacks\",\n",
      "      \"Symptoms\": \"Excessive worry, restlessness, difficulty concentrating, sleep disturbances\",\n",
      "      \"Diagnostic Journey\": \"Evaluation of symptoms, psychological assessment, ruling out physical causes\",\n",
      "      \"Treatment\": \"Cognitive-behavioral therapy, medication (selective serotonin reuptake inhibitors - SSRIs)\",\n",
      "      \"Impact on Daily Life\": \"Interference with work productivity, social interactions, and overall quality of life\"\n",
      "    }\n",
      "  ]\n",
      "}\n"
     ]
    }
   ],
   "source": [
    "patient_dict_response = openai.ChatCompletion.create(\n",
    "    model=\"gpt-3.5-turbo-0613\",\n",
    "    messages = patient_dict_messages,\n",
    "    temperature=0.7\n",
    ")\n",
    "patient_dict = patient_dict_response[\"choices\"][0][\"message\"][\"content\"]\n",
    "print(patient_dict)\n",
    "patient_dict = json.loads(patient_dict)"
   ]
  },
  {
   "cell_type": "code",
   "execution_count": 15,
   "id": "9963416b",
   "metadata": {},
   "outputs": [],
   "source": [
    "def get_patient(user_id):\n",
    "    \"\"\"This is meant to simulate retrieving patient records from a database\"\"\"\n",
    "    if user_id in range(0,4):\n",
    "        return json.dumps(patient_dict[\"patients\"][user_id])\n",
    "    raise Exception(\"User not found\")\n",
    "    "
   ]
  },
  {
   "cell_type": "code",
   "execution_count": 16,
   "id": "28775985",
   "metadata": {},
   "outputs": [],
   "source": [
    "messages = [{'role': 'system', 'content': 'You are an intelligent medical assistant'}, \n",
    "            {'role': 'user', 'content': 'Please a patient from our internal database with a user_id between 0 and 4.'}]\n",
    "functions = [{'name': 'get_patient', \n",
    "              'description': 'Get patient details from internal database.',\n",
    "              'parameters': {\n",
    "                  'type': 'object',\n",
    "                  'properties': {\n",
    "                      'user_id':  {\n",
    "                          'type': 'integer',\n",
    "                          'description': 'The user_id of the patient'\n",
    "                        }\n",
    "                    },\n",
    "                'required': ['user_id']\n",
    "                }\n",
    "            }\n",
    "        ]"
   ]
  },
  {
   "cell_type": "code",
   "execution_count": 17,
   "id": "0dee2366",
   "metadata": {},
   "outputs": [],
   "source": [
    "response = openai.ChatCompletion.create(\n",
    "        model=\"gpt-3.5-turbo-0613\",\n",
    "        messages=messages,\n",
    "        functions=functions,\n",
    "        function_call=\"auto\",  # auto is default, but we'll be explicit\n",
    "    )\n",
    "response_message = response[\"choices\"][0][\"message\"]\n"
   ]
  },
  {
   "cell_type": "code",
   "execution_count": 18,
   "id": "cf649c28",
   "metadata": {},
   "outputs": [],
   "source": [
    "if response_message.get(\"function_call\"):\n",
    "    available_fncts = {\n",
    "        \"get_patient\": get_patient,\n",
    "    }\n",
    "    fctn_name = response_message.get(\"function_call\").get(\"name\")\n",
    "    fnctn_call = available_fncts.get(fctn_name)\n",
    "    function_args = json.loads(response_message.get(\"function_call\").get(\"arguments\"))\n",
    "    function_response = json.loads(fnctn_call(user_id=function_args.get(\"user_id\")))\n",
    "    diagnostic_journey = function_response.get(\"Diagnostic Journey\")\n",
    "    medical_history = function_response.get(\"Medical History\")"
   ]
  },
  {
   "cell_type": "code",
   "execution_count": 20,
   "id": "b0b93eb1",
   "metadata": {},
   "outputs": [
    {
     "name": "stdout",
     "output_type": "stream",
     "text": [
      "Age-related degeneration, previous joint injuries\n",
      "Physical examination, X-rays, blood tests to rule out other conditions\n"
     ]
    }
   ],
   "source": [
    "print(medical_history)\n",
    "print(diagnostic_journey)\n",
    "\n",
    "medical_reports_messages = [\n",
    "    {\"role\": \"system\", \"content\": \"You are a system that creates medical reports\"},\n",
    "    {\"role\": \"user\", \"content\": \"Given the following medical history please create progress notes, medication history, immunization records, allergy records, and vital sign records.\" + \n",
    "                        \" If the records do not exist, create them.\" + \n",
    "                        \"additionally, extract any medical examinations from the diagnosic journey and provide reports for them.\" + \n",
    "                        f\"\\n Medical History: \\n[{medical_history}]\" +\n",
    "                        f\"\\n Diagnostic Journey: \\n[{diagnostic_journey}]\"},\n",
    "]"
   ]
  },
  {
   "cell_type": "code",
   "execution_count": 21,
   "id": "38f2283e",
   "metadata": {},
   "outputs": [
    {
     "name": "stdout",
     "output_type": "stream",
     "text": [
      "**Medical Progress Notes:**\n",
      "\n",
      "Patient Name: [Patient Name]\n",
      "Gender: [Patient Gender]\n",
      "Date of Birth: [Patient Date of Birth]\n",
      "Medical History: Age-related degeneration, previous joint injuries\n",
      "\n",
      "**Progress Note 1:**\n",
      "Date: [Date]\n",
      "Subjective: The patient presents with complaints of joint pain and limited mobility, especially in the affected joints.\n",
      "Objective: Physical examination reveals mild swelling and tenderness in the affected joints. Limited range of motion is also observed. X-rays and blood tests have been ordered to rule out other conditions.\n",
      "Assessment: Suspected age-related degeneration and previous joint injuries.\n",
      "Plan: X-rays and blood tests are scheduled. Prescribed pain medication and recommended physical therapy for pain management and improving mobility.\n",
      "\n",
      "**Progress Note 2:**\n",
      "Date: [Date]\n",
      "Subjective: The patient reports moderate improvement in joint pain and mobility after completing two weeks of physical therapy.\n",
      "Objective: Physical examination shows reduced swelling and tenderness in the affected joints. The range of motion has increased compared to the previous visit.\n",
      "Assessment: Positive response to physical therapy. Suspected age-related degeneration and previous joint injuries.\n",
      "Plan: Continue physical therapy sessions. Prescribed pain medication for ongoing pain management. Schedule a follow-up appointment in four weeks.\n",
      "\n",
      "**Medication History:**\n",
      "\n",
      "1. [Medication Name 1] - [Dosage] - [Frequency]\n",
      "2. [Medication Name 2] - [Dosage] - [Frequency]\n",
      "3. [Medication Name 3] - [Dosage] - [Frequency]\n",
      "\n",
      "**Immunization Records:**\n",
      "\n",
      "No immunization records available.\n",
      "\n",
      "**Allergy Records:**\n",
      "\n",
      "No known allergies.\n",
      "\n",
      "**Vital Sign Records:**\n",
      "\n",
      "Date: [Date]  \n",
      "Blood Pressure: [Value/Reading]  \n",
      "Heart Rate: [Value/Reading]  \n",
      "Respiratory Rate: [Value/Reading]  \n",
      "Temperature: [Value/Reading]\n",
      "\n",
      "Date: [Date]  \n",
      "Blood Pressure: [Value/Reading]  \n",
      "Heart Rate: [Value/Reading]  \n",
      "Respiratory Rate: [Value/Reading]  \n",
      "Temperature: [Value/Reading]\n",
      "\n",
      "**Medical Examinations:**\n",
      "1. Physical Examination Report:\n",
      "Date: [Date]\n",
      "Findings: Mild swelling and tenderness in the affected joints, limited range of motion observed.\n",
      "Assessment: Suspected age-related degeneration and previous joint injuries leading to joint pain and limited mobility.\n",
      "Plan: Further diagnostic tests ordered.\n",
      "\n",
      "2. X-ray Report:\n",
      "Date: [Date]\n",
      "Findings: [X-ray findings]\n",
      "Assessment: Rule out other conditions causing joint pain and limited mobility.\n",
      "Plan: Await blood test results for further assessment and treatment.\n",
      "\n",
      "3. Blood Test Report:\n",
      "Date: [Date]\n",
      "Findings: [Blood test findings]\n",
      "Assessment: Rule out other conditions causing joint pain and limited mobility.\n",
      "Plan: Treatment plan to be determined based on blood test results.\n"
     ]
    }
   ],
   "source": [
    "medical_reports_response = openai.ChatCompletion.create(\n",
    "    model=\"gpt-3.5-turbo-0613\",\n",
    "    messages=medical_reports_messages\n",
    ")\n",
    "medical_reports_content = medical_reports_response.choices[0][\"message\"][\"content\"]\n",
    "print(medical_reports_content)"
   ]
  },
  {
   "cell_type": "code",
   "execution_count": 22,
   "id": "af7e5a15",
   "metadata": {},
   "outputs": [],
   "source": [
    "summary_analysis_messages = [\n",
    "    {\"role\": \"system\", \"content\": \"You are a system that summarizes and analyzes medical records.\"},\n",
    "    {\"role\": \"user\", \"content\": \"From the following medical reports, please provide a summary and analysis of the patient\" + \n",
    "                    f\"\\n{medical_reports_content}\"}\n",
    "]"
   ]
  },
  {
   "cell_type": "code",
   "execution_count": 23,
   "id": "f9ecc6fe",
   "metadata": {},
   "outputs": [
    {
     "name": "stdout",
     "output_type": "stream",
     "text": [
      "Summary: \n",
      "\n",
      "The patient, whose name, gender, and date of birth are undisclosed, has a medical history of age-related degeneration and previous joint injuries. The patient presented with complaints of joint pain and limited mobility, particularly in the affected joints. Physical examination revealed mild swelling and tenderness in the affected joints, as well as restricted range of motion. X-rays and blood tests were ordered to rule out other potential conditions. Suspected age-related degeneration and previous joint injuries were identified as the potential causes of the joint pain and limited mobility. Pain medication was prescribed and physical therapy was recommended for pain management and improved mobility. After completing two weeks of physical therapy, the patient reported moderate improvement in joint pain and mobility. Physical examination showed reduced swelling and tenderness, along with increased range of motion compared to the previous visit. The patient was advised to continue physical therapy sessions, prescribed pain medication, and scheduled a follow-up appointment in four weeks.\n",
      "\n",
      "Analysis:\n",
      "\n",
      "1. Medical History: The patient's medical history includes age-related degeneration and previous joint injuries. These factors may contribute to the joint pain and limited mobility experienced by the patient.\n",
      "\n",
      "2. Progress Notes: The patient initially presented with joint pain and limited mobility, which improved after two weeks of physical therapy. The physical examination findings supported the assessment of age-related degeneration and previous joint injuries as potential causes. Diagnostic tests, such as X-rays and blood tests, were ordered to rule out other conditions.\n",
      "\n",
      "3. Medication History: The specific medications are not provided in the records, but the patient is prescribed pain medication for pain management.\n",
      "\n",
      "4. Immunization Records: No immunization records are available for the patient.\n",
      "\n",
      "5. Allergy Records: The patient has no known allergies.\n",
      "\n",
      "6. Vital Sign Records: No specific values or readings for vital signs are provided in the records.\n",
      "\n",
      "7. Medical Examinations: The physical examination report indicated mild swelling and tenderness in the affected joints, along with limited range of motion. X-rays and blood tests were ordered to further evaluate the condition and rule out other potential causes.\n",
      "\n",
      "8. X-ray and Blood Test Reports: The findings from these diagnostic tests are not disclosed in the provided information.\n",
      "\n",
      "Overall, the patient's joint pain and limited mobility are likely related to age-related degeneration and previous joint injuries. The initial response to physical therapy was positive, with reductions in swelling, tenderness, and improved range of motion. Further treatment will depend on the results of the blood tests, and pain management is being addressed with medication. Regular follow-up appointments and continued physical therapy sessions are planned to track progress and manage symptoms.\n"
     ]
    }
   ],
   "source": [
    "summary_analysis_response = openai.ChatCompletion.create(\n",
    "    model=\"gpt-3.5-turbo-0613\",\n",
    "    messages=summary_analysis_messages\n",
    ")\n",
    "summary_and_analysis = summary_analysis_response[\"choices\"][0][\"message\"][\"content\"]\n",
    "print(summary_and_analysis)"
   ]
  },
  {
   "cell_type": "code",
   "execution_count": null,
   "id": "25a5c993",
   "metadata": {},
   "outputs": [],
   "source": []
  }
 ],
 "metadata": {
  "kernelspec": {
   "display_name": "Python 3 (ipykernel)",
   "language": "python",
   "name": "python3"
  },
  "language_info": {
   "codemirror_mode": {
    "name": "ipython",
    "version": 3
   },
   "file_extension": ".py",
   "mimetype": "text/x-python",
   "name": "python",
   "nbconvert_exporter": "python",
   "pygments_lexer": "ipython3",
   "version": "3.10.8"
  }
 },
 "nbformat": 4,
 "nbformat_minor": 5
}
